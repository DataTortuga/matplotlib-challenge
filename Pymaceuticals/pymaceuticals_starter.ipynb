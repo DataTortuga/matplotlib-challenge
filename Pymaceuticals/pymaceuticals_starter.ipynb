{
 "cells": [
  {
   "cell_type": "markdown",
   "metadata": {},
   "source": [
    "## Observations and Insights "
   ]
  },
  {
   "cell_type": "markdown",
   "metadata": {},
   "source": []
  },
  {
   "cell_type": "code",
   "execution_count": 66,
   "metadata": {},
   "outputs": [
    {
     "name": "stdout",
     "output_type": "stream",
     "text": [
      "   Mouse ID Drug Regimen     Sex  Age_months  Weight (g)  Timepoint  \\\n",
      "0      b128    Capomulin  Female           9          22          0   \n",
      "1      b128    Capomulin  Female           9          22          5   \n",
      "2      b128    Capomulin  Female           9          22         10   \n",
      "3      b128    Capomulin  Female           9          22         15   \n",
      "4      b128    Capomulin  Female           9          22         20   \n",
      "5      b128    Capomulin  Female           9          22         25   \n",
      "6      b128    Capomulin  Female           9          22         30   \n",
      "7      b128    Capomulin  Female           9          22         35   \n",
      "8      b128    Capomulin  Female           9          22         40   \n",
      "9      b128    Capomulin  Female           9          22         45   \n",
      "10     f932     Ketapril    Male          15          29          0   \n",
      "11     g107     Ketapril  Female           2          29          0   \n",
      "12     g107     Ketapril  Female           2          29          5   \n",
      "13     g107     Ketapril  Female           2          29         10   \n",
      "14     g107     Ketapril  Female           2          29         15   \n",
      "15     g107     Ketapril  Female           2          29         20   \n",
      "16     g107     Ketapril  Female           2          29         25   \n",
      "17     g107     Ketapril  Female           2          29         30   \n",
      "18     g107     Ketapril  Female           2          29         35   \n",
      "19     a457     Ketapril  Female          11          30          0   \n",
      "20     a457     Ketapril  Female          11          30          5   \n",
      "21     a457     Ketapril  Female          11          30         10   \n",
      "22     c819     Ketapril    Male          21          25          0   \n",
      "23     c819     Ketapril    Male          21          25          5   \n",
      "24     c819     Ketapril    Male          21          25         10   \n",
      "25     c819     Ketapril    Male          21          25         15   \n",
      "26     c819     Ketapril    Male          21          25         20   \n",
      "27     c819     Ketapril    Male          21          25         25   \n",
      "28     c819     Ketapril    Male          21          25         30   \n",
      "29     c819     Ketapril    Male          21          25         35   \n",
      "30     c819     Ketapril    Male          21          25         40   \n",
      "31     h246     Ketapril    Male          13          30          0   \n",
      "32     h246     Ketapril    Male          13          30          5   \n",
      "33     h246     Ketapril    Male          13          30         10   \n",
      "34     h246     Ketapril    Male          13          30         15   \n",
      "35     h246     Ketapril    Male          13          30         20   \n",
      "36     h246     Ketapril    Male          13          30         25   \n",
      "37     h246     Ketapril    Male          13          30         30   \n",
      "38     h246     Ketapril    Male          13          30         35   \n",
      "39     h246     Ketapril    Male          13          30         40   \n",
      "40     h246     Ketapril    Male          13          30         45   \n",
      "41     p189     Ketapril    Male           8          28          0   \n",
      "42     p189     Ketapril    Male           8          28          5   \n",
      "43     p189     Ketapril    Male           8          28         10   \n",
      "44     p189     Ketapril    Male           8          28         15   \n",
      "45     p189     Ketapril    Male           8          28         20   \n",
      "46     p189     Ketapril    Male           8          28         25   \n",
      "47     p189     Ketapril    Male           8          28         30   \n",
      "48     p189     Ketapril    Male           8          28         35   \n",
      "49     p189     Ketapril    Male           8          28         40   \n",
      "\n",
      "    Tumor Volume (mm3)  Metastatic Sites  \n",
      "0            45.000000                 0  \n",
      "1            45.651331                 0  \n",
      "2            43.270852                 0  \n",
      "3            43.784893                 0  \n",
      "4            42.731552                 0  \n",
      "5            43.262145                 1  \n",
      "6            40.605335                 1  \n",
      "7            37.967644                 1  \n",
      "8            38.379726                 2  \n",
      "9            38.982878                 2  \n",
      "10           45.000000                 0  \n",
      "11           45.000000                 0  \n",
      "12           48.791665                 0  \n",
      "13           53.435987                 0  \n",
      "14           58.135545                 0  \n",
      "15           62.706031                 0  \n",
      "16           64.663626                 0  \n",
      "17           69.160520                 0  \n",
      "18           71.905117                 0  \n",
      "19           45.000000                 0  \n",
      "20           47.462891                 0  \n",
      "21           49.783419                 0  \n",
      "22           45.000000                 0  \n",
      "23           45.769249                 1  \n",
      "24           46.658395                 1  \n",
      "25           48.370999                 1  \n",
      "26           49.762415                 1  \n",
      "27           51.828357                 1  \n",
      "28           56.098998                 1  \n",
      "29           57.729535                 1  \n",
      "30           62.175705                 1  \n",
      "31           45.000000                 0  \n",
      "32           49.470417                 0  \n",
      "33           51.368862                 1  \n",
      "34           56.184327                 1  \n",
      "35           57.935912                 1  \n",
      "36           59.548854                 1  \n",
      "37           63.599610                 1  \n",
      "38           67.211270                 2  \n",
      "39           71.150835                 2  \n",
      "40           74.104086                 2  \n",
      "41           45.000000                 0  \n",
      "42           49.048707                 1  \n",
      "43           51.582162                 2  \n",
      "44           53.675542                 2  \n",
      "45           56.530204                 3  \n",
      "46           62.108960                 3  \n",
      "47           67.104537                 4  \n",
      "48           67.873777                 4  \n",
      "49           74.106091                 4  \n"
     ]
    }
   ],
   "source": [
    "# Dependencies and Setup\n",
    "import matplotlib.pyplot as plt\n",
    "import pandas as pd\n",
    "import scipy.stats as st\n",
    "\n",
    "# Study data files\n",
    "mouse_metadata_path = \"data/Mouse_metadata.csv\"\n",
    "study_results_path = \"data/Study_results.csv\"\n",
    "\n",
    "# Read the mouse data and the study results\n",
    "mouse_metadata = pd.read_csv(mouse_metadata_path)\n",
    "study_results = pd.read_csv(study_results_path)\n",
    "\n",
    "# Combine the data into a single dataset\n",
    "merged_df = pd.merge(mouse_metadata, study_results, on='Mouse ID', how='right')\n",
    "\n",
    "# Display the data table for preview\n",
    "print(merged_df.head(50))"
   ]
  },
  {
   "cell_type": "code",
   "execution_count": 67,
   "metadata": {},
   "outputs": [
    {
     "name": "stdout",
     "output_type": "stream",
     "text": [
      "(249,)\n",
      "0       False\n",
      "1       False\n",
      "2       False\n",
      "3       False\n",
      "4       False\n",
      "        ...  \n",
      "1888    False\n",
      "1889    False\n",
      "1890    False\n",
      "1891    False\n",
      "1892    False\n",
      "Length: 1893, dtype: bool\n"
     ]
    }
   ],
   "source": [
    "# Checking the number of mice.\n",
    "print(mouse_metadata['Mouse ID'].unique().shape)\n",
    "\n",
    "# Finding duplicates in study_results\n",
    "dup = merged_df.duplicated(subset=['Mouse ID','Timepoint'],keep=False)\n",
    "\n",
    "print(dup)"
   ]
  },
  {
   "cell_type": "code",
   "execution_count": 68,
   "metadata": {},
   "outputs": [],
   "source": [
    "# Getting the duplicate mice by ID number that shows up for Mouse ID and Timepoint. \n",
    "dup = merged_df.duplicated(subset=['Mouse ID','Timepoint'],keep=False)\n",
    "\n",
    "\n",
    "            \n",
    "            "
   ]
  },
  {
   "cell_type": "code",
   "execution_count": 69,
   "metadata": {},
   "outputs": [
    {
     "name": "stdout",
     "output_type": "stream",
     "text": [
      "860\n",
      "True\n",
      "\n",
      "861\n",
      "True\n",
      "\n",
      "862\n",
      "True\n",
      "\n",
      "863\n",
      "True\n",
      "\n",
      "864\n",
      "True\n",
      "\n",
      "865\n",
      "True\n",
      "\n",
      "866\n",
      "True\n",
      "\n",
      "867\n",
      "True\n",
      "\n",
      "868\n",
      "True\n",
      "\n",
      "869\n",
      "True\n",
      "\n"
     ]
    }
   ],
   "source": [
    "# Optional: Get all the data for the duplicate mouse ID. \n",
    "count = 0\n",
    "for x in dup:\n",
    "    if x == 1:\n",
    "        print(count)\n",
    "        print(x)\n",
    "        print()\n",
    "    count += 1"
   ]
  },
  {
   "cell_type": "code",
   "execution_count": 70,
   "metadata": {},
   "outputs": [
    {
     "data": {
      "text/plain": [
       "(1883, 8)"
      ]
     },
     "execution_count": 70,
     "metadata": {},
     "output_type": "execute_result"
    }
   ],
   "source": [
    "# Create a clean DataFrame by dropping the duplicate mouse by its ID.\n",
    "merged_df.drop_duplicates(subset=['Mouse ID','Timepoint'],keep=False,inplace=True)\n",
    "merged_df.shape"
   ]
  },
  {
   "cell_type": "code",
   "execution_count": 71,
   "metadata": {},
   "outputs": [
    {
     "data": {
      "text/plain": [
       "(249,)"
      ]
     },
     "execution_count": 71,
     "metadata": {},
     "output_type": "execute_result"
    }
   ],
   "source": [
    "# Checking the number of mice in the clean DataFrame.\n",
    "merged_df['Mouse ID'].unique().shape\n"
   ]
  },
  {
   "cell_type": "markdown",
   "metadata": {},
   "source": [
    "## Summary Statistics"
   ]
  },
  {
   "cell_type": "code",
   "execution_count": 97,
   "metadata": {},
   "outputs": [
    {
     "name": "stdout",
     "output_type": "stream",
     "text": [
      "                   Mean     Median        Var       STD       SEM\n",
      "Drug Regimen                                                     \n",
      "Capomulin     40.675741  41.557809  24.947764  4.994774  0.329346\n",
      "Ceftamin      52.591172  51.776157  39.290177  6.268188  0.469821\n",
      "Infubinol     52.884795  51.820584  43.128684  6.567243  0.492236\n",
      "Ketapril      55.235638  53.698743  68.553577  8.279709  0.603860\n",
      "Naftisol      54.331565  52.509285  66.173479  8.134708  0.596466\n",
      "Placebo       54.033581  52.288934  61.168083  7.821003  0.581331\n",
      "Propriva      52.458254  50.854632  44.053659  6.637293  0.540135\n",
      "Ramicane      40.216745  40.673236  23.486704  4.846308  0.320955\n",
      "Stelasyn      54.233149  52.431737  59.450562  7.710419  0.573111\n",
      "Zoniferol     53.236507  51.818479  48.533355  6.966589  0.516398\n"
     ]
    }
   ],
   "source": [
    "# Generate a summary statistics table of mean, median, variance, standard deviation, and SEM of the tumor volume for each regimen\n",
    "\n",
    "# Use groupby and summary statistical methods to calculate the following properties of each drug regimen: \n",
    "# mean, median, variance, standard deviation, and SEM of the tumor volume. \n",
    "# Assemble the resulting series into a single summary dataframe.\n",
    "\n",
    "tumor_mean = merged_df.groupby('Drug Regimen')['Tumor Volume (mm3)'].mean()\n",
    "tumor_median = merged_df.groupby('Drug Regimen')['Tumor Volume (mm3)'].median()\n",
    "tumor_var = merged_df.groupby('Drug Regimen')['Tumor Volume (mm3)'].var()\n",
    "tumor_std = merged_df.groupby('Drug Regimen')['Tumor Volume (mm3)'].std()\n",
    "tumor_sem = merged_df.groupby('Drug Regimen')['Tumor Volume (mm3)'].sem()\n",
    "\n",
    "tumor_analysis = pd.DataFrame({\n",
    "    'Mean':tumor_mean,\n",
    "    'Median':tumor_median,\n",
    "    'Var':tumor_var,\n",
    "    'STD':tumor_std,\n",
    "    'SEM':tumor_sem\n",
    "    \n",
    "})\n",
    "print(tumor_analysis)\n"
   ]
  },
  {
   "cell_type": "code",
   "execution_count": 8,
   "metadata": {},
   "outputs": [],
   "source": [
    "# Generate a summary statistics table of mean, median, variance, standard deviation, and SEM of the tumor volume for each regimen\n",
    "\n",
    "# Using the aggregation method, produce the same summary statistics in a single line\n"
   ]
  },
  {
   "cell_type": "markdown",
   "metadata": {},
   "source": [
    "## Bar and Pie Charts"
   ]
  },
  {
   "cell_type": "code",
   "execution_count": 102,
   "metadata": {},
   "outputs": [
    {
     "name": "stdout",
     "output_type": "stream",
     "text": [
      "Drug Regimen\n",
      "Capomulin    230\n",
      "Ceftamin     178\n",
      "Infubinol    178\n",
      "Ketapril     188\n",
      "Naftisol     186\n",
      "Placebo      181\n",
      "Propriva     151\n",
      "Ramicane     228\n",
      "Stelasyn     181\n",
      "Zoniferol    182\n",
      "Name: Mouse ID, dtype: int64\n"
     ]
    },
    {
     "data": {
      "text/plain": [
       "<AxesSubplot:xlabel='Drug Regimen'>"
      ]
     },
     "execution_count": 102,
     "metadata": {},
     "output_type": "execute_result"
    },
    {
     "data": {
      "image/png": "[encoded data removed]",
      "text/plain": [
       "<Figure size 432x288 with 1 Axes>"
      ]
     },
     "metadata": {
      "needs_background": "light"
     },
     "output_type": "display_data"
    }
   ],
   "source": [
    "# Generate a bar plot showing the total number of unique mice tested on each drug regimen using pandas.\n",
    "print(merged_df.groupby('Drug Regimen')['Mouse ID'].count())\n",
    "\n",
    "merged_df.groupby('Drug Regimen')['Mouse ID'].count().plot(kind='bar')\n"
   ]
  },
  {
   "cell_type": "code",
   "execution_count": 106,
   "metadata": {},
   "outputs": [
    {
     "data": {
      "image/png": "[encoded data removed]",
      "text/plain": [
       "<Figure size 432x288 with 1 Axes>"
      ]
     },
     "metadata": {
      "needs_background": "light"
     },
     "output_type": "display_data"
    }
   ],
   "source": [
    "# Generate a bar plot showing the total number of unique mice tested on each drug regimen using pyplot.\n",
    "\n",
    "plt.bar(merged_df['Drug Regimen'].unique(), merged_df.groupby('Drug Regimen')['Mouse ID'].count())\n",
    "plt.xticks(rotation = 45)\n",
    "plt.show()"
   ]
  },
  {
   "cell_type": "code",
   "execution_count": 107,
   "metadata": {},
   "outputs": [
    {
     "data": {
      "text/plain": [
       "Index(['Mouse ID', 'Drug Regimen', 'Sex', 'Age_months', 'Weight (g)',\n",
       "       'Timepoint', 'Tumor Volume (mm3)', 'Metastatic Sites'],\n",
       "      dtype='object')"
      ]
     },
     "execution_count": 107,
     "metadata": {},
     "output_type": "execute_result"
    }
   ],
   "source": [
    "# Generate a pie plot showing the distribution of female versus male mice using pandas\n",
    "\n",
    "merged_df.columns\n",
    "\n",
    "merged_df"
   ]
  },
  {
   "cell_type": "code",
   "execution_count": 12,
   "metadata": {},
   "outputs": [],
   "source": [
    "# Generate a pie plot showing the distribution of female versus male mice using pyplot\n",
    "\n"
   ]
  },
  {
   "cell_type": "markdown",
   "metadata": {},
   "source": [
    "## Quartiles, Outliers and Boxplots"
   ]
  },
  {
   "cell_type": "code",
   "execution_count": 13,
   "metadata": {},
   "outputs": [],
   "source": [
    "# Calculate the final tumor volume of each mouse across four of the treatment regimens:  \n",
    "# Capomulin, Ramicane, Infubinol, and Ceftamin\n",
    "\n",
    "# Start by getting the last (greatest) timepoint for each mouse\n",
    "\n",
    "\n",
    "# Merge this group df with the original dataframe to get the tumor volume at the last timepoint\n"
   ]
  },
  {
   "cell_type": "code",
   "execution_count": 14,
   "metadata": {},
   "outputs": [],
   "source": [
    "# Put treatments into a list for for loop (and later for plot labels)\n",
    "\n",
    "\n",
    "# Create empty list to fill with tumor vol data (for plotting)\n",
    "\n",
    "\n",
    "# Calculate the IQR and quantitatively determine if there are any potential outliers. \n",
    "\n",
    "    \n",
    "    # Locate the rows which contain mice on each drug and get the tumor volumes\n",
    "    \n",
    "    \n",
    "    # add subset \n",
    "    \n",
    "    \n",
    "    # Determine outliers using upper and lower bounds\n",
    "    "
   ]
  },
  {
   "cell_type": "code",
   "execution_count": 15,
   "metadata": {},
   "outputs": [],
   "source": [
    "# Generate a box plot of the final tumor volume of each mouse across four regimens of interest\n"
   ]
  },
  {
   "cell_type": "markdown",
   "metadata": {},
   "source": [
    "## Line and Scatter Plots"
   ]
  },
  {
   "cell_type": "code",
   "execution_count": 16,
   "metadata": {},
   "outputs": [],
   "source": [
    "# Generate a line plot of tumor volume vs. time point for a mouse treated with Capomulin\n"
   ]
  },
  {
   "cell_type": "code",
   "execution_count": 17,
   "metadata": {},
   "outputs": [],
   "source": [
    "# Generate a scatter plot of average tumor volume vs. mouse weight for the Capomulin regimen\n"
   ]
  },
  {
   "cell_type": "markdown",
   "metadata": {},
   "source": [
    "## Correlation and Regression"
   ]
  },
  {
   "cell_type": "code",
   "execution_count": 18,
   "metadata": {},
   "outputs": [],
   "source": [
    "# Calculate the correlation coefficient and linear regression model \n",
    "# for mouse weight and average tumor volume for the Capomulin regimen\n"
   ]
  },
  {
   "cell_type": "code",
   "execution_count": null,
   "metadata": {},
   "outputs": [],
   "source": []
  }
 ],
 "metadata": {
  "anaconda-cloud": {},
  "kernelspec": {
   "display_name": "Python 3",
   "language": "python",
   "name": "python3"
  },
  "language_info": {
   "codemirror_mode": {
    "name": "ipython",
    "version": 3
   },
   "file_extension": ".py",
   "mimetype": "text/x-python",
   "name": "python",
   "nbconvert_exporter": "python",
   "pygments_lexer": "ipython3",
   "version": "3.8.5"
  }
 },
 "nbformat": 4,
 "nbformat_minor": 4
}
